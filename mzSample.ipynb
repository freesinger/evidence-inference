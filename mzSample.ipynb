{
 "cells": [
  {
   "cell_type": "code",
   "execution_count": 2,
   "metadata": {},
   "outputs": [],
   "source": [
    "import torch\n",
    "import matchzoo as mz\n",
    "\n",
    "ranking_task = mz.tasks.Ranking(losses=mz.losses.RankCrossEntropyLoss(num_neg=4))\n",
    "ranking_task.metrics = [\n",
    "    mz.metrics.NormalizedDiscountedCumulativeGain(k=3),\n",
    "    mz.metrics.MeanAveragePrecision()\n",
    "]"
   ]
  },
  {
   "cell_type": "code",
   "execution_count": 3,
   "metadata": {},
   "outputs": [
    {
     "name": "stdout",
     "output_type": "stream",
     "text": [
      "Downloading data from https://download.microsoft.com/download/E/5/F/E5FCFCEE-7005-4814-853D-DAA7C66507E0/WikiQACorpus.zip\n",
      "7094272/7094233 [==============================] - 3s 0us/step\n"
     ]
    }
   ],
   "source": [
    "train_pack = mz.datasets.wiki_qa.load_data('train', task=ranking_task)\n",
    "valid_pack = mz.datasets.wiki_qa.load_data('dev', task=ranking_task)"
   ]
  },
  {
   "cell_type": "code",
   "execution_count": 7,
   "metadata": {
    "scrolled": true
   },
   "outputs": [
    {
     "name": "stderr",
     "output_type": "stream",
     "text": [
      "\n",
      "\n",
      "\n",
      "Processing text_left with chain_transform of Tokenize => Lowercase => PuncRemoval:   0%|      | 0/2118 [00:00<?, ?it/s]\u001b[A\u001b[A\u001b[A\n",
      "\n",
      "\n",
      "Processing text_left with chain_transform of Tokenize => Lowercase => PuncRemoval:  42%|▍| 880/2118 [00:00<00:00, 8736.00it/s]\u001b[A\u001b[A\u001b[A\n",
      "\n",
      "\n",
      "Processing text_left with chain_transform of Tokenize => Lowercase => PuncRemoval: 100%|█| 2118/2118 [00:00<00:00, 8997.64it/s]\u001b[A\u001b[A\u001b[A\n",
      "\n",
      "\n",
      "\n",
      "Processing text_right with chain_transform of Tokenize => Lowercase => PuncRemoval:   0%|    | 0/18841 [00:00<?, ?it/s]\u001b[A\u001b[A\u001b[A\n",
      "\n",
      "\n",
      "Processing text_right with chain_transform of Tokenize => Lowercase => PuncRemoval:   3%| | 627/18841 [00:00<00:02, 6223.18it/s]\u001b[A\u001b[A\u001b[A\n",
      "\n",
      "\n",
      "Processing text_right with chain_transform of Tokenize => Lowercase => PuncRemoval:   6%| | 1136/18841 [00:00<00:03, 5819.49it/s]\u001b[A\u001b[A\u001b[A\n",
      "\n",
      "\n",
      "Processing text_right with chain_transform of Tokenize => Lowercase => PuncRemoval:   9%| | 1657/18841 [00:00<00:03, 5608.93it/s]\u001b[A\u001b[A\u001b[A\n",
      "\n",
      "\n",
      "Processing text_right with chain_transform of Tokenize => Lowercase => PuncRemoval:  12%| | 2192/18841 [00:00<00:03, 5516.14it/s]\u001b[A\u001b[A\u001b[A\n",
      "\n",
      "\n",
      "Processing text_right with chain_transform of Tokenize => Lowercase => PuncRemoval:  15%|▏| 2759/18841 [00:00<00:02, 5549.51it/s]\u001b[A\u001b[A\u001b[A\n",
      "\n",
      "\n",
      "Processing text_right with chain_transform of Tokenize => Lowercase => PuncRemoval:  18%|▏| 3303/18841 [00:00<00:02, 5503.42it/s]\u001b[A\u001b[A\u001b[A\n",
      "\n",
      "\n",
      "Processing text_right with chain_transform of Tokenize => Lowercase => PuncRemoval:  20%|▏| 3836/18841 [00:00<00:02, 5438.05it/s]\u001b[A\u001b[A\u001b[A\n",
      "\n",
      "\n",
      "Processing text_right with chain_transform of Tokenize => Lowercase => PuncRemoval:  23%|▏| 4408/18841 [00:00<00:02, 5508.02it/s]\u001b[A\u001b[A\u001b[A\n",
      "\n",
      "\n",
      "Processing text_right with chain_transform of Tokenize => Lowercase => PuncRemoval:  26%|▎| 4925/18841 [00:00<00:02, 5323.83it/s]\u001b[A\u001b[A\u001b[A\n",
      "\n",
      "\n",
      "Processing text_right with chain_transform of Tokenize => Lowercase => PuncRemoval:  29%|▎| 5451/18841 [00:01<00:02, 5292.78it/s]\u001b[A\u001b[A\u001b[A\n",
      "\n",
      "\n",
      "Processing text_right with chain_transform of Tokenize => Lowercase => PuncRemoval:  32%|▎| 6028/18841 [00:01<00:02, 5415.91it/s]\u001b[A\u001b[A\u001b[A\n",
      "\n",
      "\n",
      "Processing text_right with chain_transform of Tokenize => Lowercase => PuncRemoval:  35%|▎| 6613/18841 [00:01<00:02, 5527.67it/s]\u001b[A\u001b[A\u001b[A\n",
      "\n",
      "\n",
      "Processing text_right with chain_transform of Tokenize => Lowercase => PuncRemoval:  38%|▍| 7201/18841 [00:01<00:02, 5617.16it/s]\u001b[A\u001b[A\u001b[A\n",
      "\n",
      "\n",
      "Processing text_right with chain_transform of Tokenize => Lowercase => PuncRemoval:  41%|▍| 7787/18841 [00:01<00:01, 5675.73it/s]\u001b[A\u001b[A\u001b[A\n",
      "\n",
      "\n",
      "Processing text_right with chain_transform of Tokenize => Lowercase => PuncRemoval:  44%|▍| 8367/18841 [00:01<00:01, 5700.14it/s]\u001b[A\u001b[A\u001b[A\n",
      "\n",
      "\n",
      "Processing text_right with chain_transform of Tokenize => Lowercase => PuncRemoval:  47%|▍| 8935/18841 [00:01<00:01, 5664.95it/s]\u001b[A\u001b[A\u001b[A\n",
      "\n",
      "\n",
      "Processing text_right with chain_transform of Tokenize => Lowercase => PuncRemoval:  50%|▌| 9501/18841 [00:01<00:01, 5347.33it/s]\u001b[A\u001b[A\u001b[A\n",
      "\n",
      "\n",
      "Processing text_right with chain_transform of Tokenize => Lowercase => PuncRemoval:  53%|▌| 10073/18841 [00:01<00:01, 5442.57it/s]\u001b[A\u001b[A\u001b[A\n",
      "\n",
      "\n",
      "Processing text_right with chain_transform of Tokenize => Lowercase => PuncRemoval:  56%|▌| 10634/18841 [00:01<00:01, 5479.97it/s]\u001b[A\u001b[A\u001b[A\n",
      "\n",
      "\n",
      "Processing text_right with chain_transform of Tokenize => Lowercase => PuncRemoval:  60%|▌| 11215/18841 [00:02<00:01, 5563.73it/s]\u001b[A\u001b[A\u001b[A\n",
      "\n",
      "\n",
      "Processing text_right with chain_transform of Tokenize => Lowercase => PuncRemoval:  63%|▋| 11815/18841 [00:02<00:01, 5676.01it/s]\u001b[A\u001b[A\u001b[A\n",
      "\n",
      "\n",
      "Processing text_right with chain_transform of Tokenize => Lowercase => PuncRemoval:  66%|▋| 12385/18841 [00:02<00:01, 5670.31it/s]\u001b[A\u001b[A\u001b[A\n",
      "\n",
      "\n",
      "Processing text_right with chain_transform of Tokenize => Lowercase => PuncRemoval:  69%|▋| 12962/18841 [00:02<00:01, 5687.52it/s]\u001b[A\u001b[A\u001b[A\n",
      "\n",
      "\n",
      "Processing text_right with chain_transform of Tokenize => Lowercase => PuncRemoval:  72%|▋| 13551/18841 [00:02<00:00, 5735.01it/s]\u001b[A\u001b[A\u001b[A\n",
      "\n",
      "\n",
      "Processing text_right with chain_transform of Tokenize => Lowercase => PuncRemoval:  75%|▋| 14128/18841 [00:02<00:00, 5715.43it/s]\u001b[A\u001b[A\u001b[A\n",
      "\n",
      "\n",
      "Processing text_right with chain_transform of Tokenize => Lowercase => PuncRemoval:  78%|▊| 14701/18841 [00:02<00:00, 5707.85it/s]\u001b[A\u001b[A\u001b[A\n",
      "\n",
      "\n",
      "Processing text_right with chain_transform of Tokenize => Lowercase => PuncRemoval:  81%|▊| 15273/18841 [00:02<00:00, 5517.60it/s]\u001b[A\u001b[A\u001b[A\n",
      "\n",
      "\n",
      "Processing text_right with chain_transform of Tokenize => Lowercase => PuncRemoval:  84%|▊| 15854/18841 [00:02<00:00, 5590.40it/s]\u001b[A\u001b[A\u001b[A\n",
      "\n",
      "\n",
      "Processing text_right with chain_transform of Tokenize => Lowercase => PuncRemoval:  87%|▊| 16415/18841 [00:02<00:00, 5486.40it/s]\u001b[A\u001b[A\u001b[A\n",
      "\n",
      "\n",
      "Processing text_right with chain_transform of Tokenize => Lowercase => PuncRemoval:  90%|▉| 16978/18841 [00:03<00:00, 5516.47it/s]\u001b[A\u001b[A\u001b[A\n",
      "\n",
      "\n",
      "Processing text_right with chain_transform of Tokenize => Lowercase => PuncRemoval:  93%|▉| 17557/18841 [00:03<00:00, 5583.89it/s]\u001b[A\u001b[A\u001b[A\n",
      "\n",
      "\n",
      "Processing text_right with chain_transform of Tokenize => Lowercase => PuncRemoval:  96%|▉| 18151/18841 [00:03<00:00, 5674.29it/s]\u001b[A\u001b[A\u001b[A\n",
      "\n",
      "\n",
      "Processing text_right with chain_transform of Tokenize => Lowercase => PuncRemoval: 100%|█| 18841/18841 [00:03<00:00, 5559.53it/s]\u001b[A\u001b[A\u001b[A\n",
      "\n",
      "\n",
      "\n",
      "Processing text_right with append:   0%|                                                     | 0/18841 [00:00<?, ?it/s]\u001b[A\u001b[A\u001b[A"
     ]
    },
    {
     "ename": "TypeError",
     "evalue": "unhashable type: 'list'",
     "output_type": "error",
     "traceback": [
      "\u001b[1;31m---------------------------------------------------------------------------\u001b[0m",
      "\u001b[1;31mTypeError\u001b[0m                                 Traceback (most recent call last)",
      "\u001b[1;32m<ipython-input-7-9912696577c2>\u001b[0m in \u001b[0;36m<module>\u001b[1;34m\u001b[0m\n\u001b[0;32m      1\u001b[0m \u001b[0mpreprocessor\u001b[0m \u001b[1;33m=\u001b[0m \u001b[0mmz\u001b[0m\u001b[1;33m.\u001b[0m\u001b[0mmodels\u001b[0m\u001b[1;33m.\u001b[0m\u001b[0mArcI\u001b[0m\u001b[1;33m.\u001b[0m\u001b[0mget_default_preprocessor\u001b[0m\u001b[1;33m(\u001b[0m\u001b[1;33m)\u001b[0m\u001b[1;33m\u001b[0m\u001b[1;33m\u001b[0m\u001b[0m\n\u001b[1;32m----> 2\u001b[1;33m \u001b[0mtrain_processed\u001b[0m \u001b[1;33m=\u001b[0m \u001b[0mpreprocessor\u001b[0m\u001b[1;33m.\u001b[0m\u001b[0mfit_transform\u001b[0m\u001b[1;33m(\u001b[0m\u001b[0mtrain_pack\u001b[0m\u001b[1;33m)\u001b[0m\u001b[1;33m\u001b[0m\u001b[1;33m\u001b[0m\u001b[0m\n\u001b[0m\u001b[0;32m      3\u001b[0m \u001b[0mvalid_processed\u001b[0m \u001b[1;33m=\u001b[0m \u001b[0mpreprocessor\u001b[0m\u001b[1;33m.\u001b[0m\u001b[0mtransform\u001b[0m\u001b[1;33m(\u001b[0m\u001b[0mvalid_pack\u001b[0m\u001b[1;33m)\u001b[0m\u001b[1;33m\u001b[0m\u001b[1;33m\u001b[0m\u001b[0m\n",
      "\u001b[1;32mF:\\anaconda\\lib\\site-packages\\matchzoo\\engine\\base_preprocessor.py\u001b[0m in \u001b[0;36mfit_transform\u001b[1;34m(self, data_pack, verbose)\u001b[0m\n\u001b[0;32m     95\u001b[0m         \u001b[1;33m:\u001b[0m\u001b[0mparam\u001b[0m \u001b[0mverbose\u001b[0m\u001b[1;33m:\u001b[0m \u001b[0mVerbosity\u001b[0m\u001b[1;33m.\u001b[0m\u001b[1;33m\u001b[0m\u001b[1;33m\u001b[0m\u001b[0m\n\u001b[0;32m     96\u001b[0m         \"\"\"\n\u001b[1;32m---> 97\u001b[1;33m         \u001b[1;32mreturn\u001b[0m \u001b[0mself\u001b[0m\u001b[1;33m.\u001b[0m\u001b[0mfit\u001b[0m\u001b[1;33m(\u001b[0m\u001b[0mdata_pack\u001b[0m\u001b[1;33m,\u001b[0m \u001b[0mverbose\u001b[0m\u001b[1;33m=\u001b[0m\u001b[0mverbose\u001b[0m\u001b[1;33m)\u001b[0m\u001b[0;31m \u001b[0m\u001b[0;31m\\\u001b[0m\u001b[1;33m\u001b[0m\u001b[1;33m\u001b[0m\u001b[0m\n\u001b[0m\u001b[0;32m     98\u001b[0m             \u001b[1;33m.\u001b[0m\u001b[0mtransform\u001b[0m\u001b[1;33m(\u001b[0m\u001b[0mdata_pack\u001b[0m\u001b[1;33m,\u001b[0m \u001b[0mverbose\u001b[0m\u001b[1;33m=\u001b[0m\u001b[0mverbose\u001b[0m\u001b[1;33m)\u001b[0m\u001b[1;33m\u001b[0m\u001b[1;33m\u001b[0m\u001b[0m\n\u001b[0;32m     99\u001b[0m \u001b[1;33m\u001b[0m\u001b[0m\n",
      "\u001b[1;32mF:\\anaconda\\lib\\site-packages\\matchzoo\\preprocessors\\basic_preprocessor.py\u001b[0m in \u001b[0;36mfit\u001b[1;34m(self, data_pack, verbose)\u001b[0m\n\u001b[0;32m    108\u001b[0m                                                        \u001b[0mflatten\u001b[0m\u001b[1;33m=\u001b[0m\u001b[1;32mFalse\u001b[0m\u001b[1;33m,\u001b[0m\u001b[1;33m\u001b[0m\u001b[1;33m\u001b[0m\u001b[0m\n\u001b[0;32m    109\u001b[0m                                                        \u001b[0mmode\u001b[0m\u001b[1;33m=\u001b[0m\u001b[1;34m'right'\u001b[0m\u001b[1;33m,\u001b[0m\u001b[1;33m\u001b[0m\u001b[1;33m\u001b[0m\u001b[0m\n\u001b[1;32m--> 110\u001b[1;33m                                                        verbose=verbose)\n\u001b[0m\u001b[0;32m    111\u001b[0m         data_pack = data_pack.apply_on_text(fitted_filter_unit.transform,\n\u001b[0;32m    112\u001b[0m                                             mode='right', verbose=verbose)\n",
      "\u001b[1;32mF:\\anaconda\\lib\\site-packages\\matchzoo\\preprocessors\\build_unit_from_data_pack.py\u001b[0m in \u001b[0;36mbuild_unit_from_data_pack\u001b[1;34m(unit, data_pack, mode, flatten, verbose)\u001b[0m\n\u001b[0;32m     30\u001b[0m         \u001b[0mdata_pack\u001b[0m\u001b[1;33m.\u001b[0m\u001b[0mapply_on_text\u001b[0m\u001b[1;33m(\u001b[0m\u001b[0mcorpus\u001b[0m\u001b[1;33m.\u001b[0m\u001b[0mextend\u001b[0m\u001b[1;33m,\u001b[0m \u001b[0mmode\u001b[0m\u001b[1;33m=\u001b[0m\u001b[0mmode\u001b[0m\u001b[1;33m,\u001b[0m \u001b[0mverbose\u001b[0m\u001b[1;33m=\u001b[0m\u001b[0mverbose\u001b[0m\u001b[1;33m)\u001b[0m\u001b[1;33m\u001b[0m\u001b[1;33m\u001b[0m\u001b[0m\n\u001b[0;32m     31\u001b[0m     \u001b[1;32melse\u001b[0m\u001b[1;33m:\u001b[0m\u001b[1;33m\u001b[0m\u001b[1;33m\u001b[0m\u001b[0m\n\u001b[1;32m---> 32\u001b[1;33m         \u001b[0mdata_pack\u001b[0m\u001b[1;33m.\u001b[0m\u001b[0mapply_on_text\u001b[0m\u001b[1;33m(\u001b[0m\u001b[0mcorpus\u001b[0m\u001b[1;33m.\u001b[0m\u001b[0mappend\u001b[0m\u001b[1;33m,\u001b[0m \u001b[0mmode\u001b[0m\u001b[1;33m=\u001b[0m\u001b[0mmode\u001b[0m\u001b[1;33m,\u001b[0m \u001b[0mverbose\u001b[0m\u001b[1;33m=\u001b[0m\u001b[0mverbose\u001b[0m\u001b[1;33m)\u001b[0m\u001b[1;33m\u001b[0m\u001b[1;33m\u001b[0m\u001b[0m\n\u001b[0m\u001b[0;32m     33\u001b[0m     \u001b[1;32mif\u001b[0m \u001b[0mverbose\u001b[0m\u001b[1;33m:\u001b[0m\u001b[1;33m\u001b[0m\u001b[1;33m\u001b[0m\u001b[0m\n\u001b[0;32m     34\u001b[0m         \u001b[0mdescription\u001b[0m \u001b[1;33m=\u001b[0m \u001b[1;34m'Building '\u001b[0m \u001b[1;33m+\u001b[0m \u001b[0munit\u001b[0m\u001b[1;33m.\u001b[0m\u001b[0m__class__\u001b[0m\u001b[1;33m.\u001b[0m\u001b[0m__name__\u001b[0m \u001b[1;33m+\u001b[0m\u001b[0;31m \u001b[0m\u001b[0;31m\\\u001b[0m\u001b[1;33m\u001b[0m\u001b[1;33m\u001b[0m\u001b[0m\n",
      "\u001b[1;32mF:\\anaconda\\lib\\site-packages\\matchzoo\\data_pack\\data_pack.py\u001b[0m in \u001b[0;36mwrapper\u001b[1;34m(self, inplace, *args, **kwargs)\u001b[0m\n\u001b[0;32m    244\u001b[0m                 \u001b[0mtarget\u001b[0m \u001b[1;33m=\u001b[0m \u001b[0mself\u001b[0m\u001b[1;33m.\u001b[0m\u001b[0mcopy\u001b[0m\u001b[1;33m(\u001b[0m\u001b[1;33m)\u001b[0m\u001b[1;33m\u001b[0m\u001b[1;33m\u001b[0m\u001b[0m\n\u001b[0;32m    245\u001b[0m \u001b[1;33m\u001b[0m\u001b[0m\n\u001b[1;32m--> 246\u001b[1;33m             \u001b[0mfunc\u001b[0m\u001b[1;33m(\u001b[0m\u001b[0mtarget\u001b[0m\u001b[1;33m,\u001b[0m \u001b[1;33m*\u001b[0m\u001b[0margs\u001b[0m\u001b[1;33m,\u001b[0m \u001b[1;33m**\u001b[0m\u001b[0mkwargs\u001b[0m\u001b[1;33m)\u001b[0m\u001b[1;33m\u001b[0m\u001b[1;33m\u001b[0m\u001b[0m\n\u001b[0m\u001b[0;32m    247\u001b[0m \u001b[1;33m\u001b[0m\u001b[0m\n\u001b[0;32m    248\u001b[0m             \u001b[1;32mif\u001b[0m \u001b[1;32mnot\u001b[0m \u001b[0minplace\u001b[0m\u001b[1;33m:\u001b[0m\u001b[1;33m\u001b[0m\u001b[1;33m\u001b[0m\u001b[0m\n",
      "\u001b[1;32mF:\\anaconda\\lib\\site-packages\\matchzoo\\data_pack\\data_pack.py\u001b[0m in \u001b[0;36mapply_on_text\u001b[1;34m(self, func, mode, rename, verbose)\u001b[0m\n\u001b[0;32m    399\u001b[0m             \u001b[0mself\u001b[0m\u001b[1;33m.\u001b[0m\u001b[0m_apply_on_text_left\u001b[0m\u001b[1;33m(\u001b[0m\u001b[0mfunc\u001b[0m\u001b[1;33m,\u001b[0m \u001b[0mrename\u001b[0m\u001b[1;33m,\u001b[0m \u001b[0mverbose\u001b[0m\u001b[1;33m=\u001b[0m\u001b[0mverbose\u001b[0m\u001b[1;33m)\u001b[0m\u001b[1;33m\u001b[0m\u001b[1;33m\u001b[0m\u001b[0m\n\u001b[0;32m    400\u001b[0m         \u001b[1;32melif\u001b[0m \u001b[0mmode\u001b[0m \u001b[1;33m==\u001b[0m \u001b[1;34m'right'\u001b[0m\u001b[1;33m:\u001b[0m\u001b[1;33m\u001b[0m\u001b[1;33m\u001b[0m\u001b[0m\n\u001b[1;32m--> 401\u001b[1;33m             \u001b[0mself\u001b[0m\u001b[1;33m.\u001b[0m\u001b[0m_apply_on_text_right\u001b[0m\u001b[1;33m(\u001b[0m\u001b[0mfunc\u001b[0m\u001b[1;33m,\u001b[0m \u001b[0mrename\u001b[0m\u001b[1;33m,\u001b[0m \u001b[0mverbose\u001b[0m\u001b[1;33m=\u001b[0m\u001b[0mverbose\u001b[0m\u001b[1;33m)\u001b[0m\u001b[1;33m\u001b[0m\u001b[1;33m\u001b[0m\u001b[0m\n\u001b[0m\u001b[0;32m    402\u001b[0m         \u001b[1;32melse\u001b[0m\u001b[1;33m:\u001b[0m\u001b[1;33m\u001b[0m\u001b[1;33m\u001b[0m\u001b[0m\n\u001b[0;32m    403\u001b[0m             raise ValueError(f\"{mode} is not a valid mode type.\"\n",
      "\u001b[1;32mF:\\anaconda\\lib\\site-packages\\matchzoo\\data_pack\\data_pack.py\u001b[0m in \u001b[0;36m_apply_on_text_right\u001b[1;34m(self, func, rename, verbose)\u001b[0m\n\u001b[0;32m    408\u001b[0m         \u001b[1;32mif\u001b[0m \u001b[0mverbose\u001b[0m\u001b[1;33m:\u001b[0m\u001b[1;33m\u001b[0m\u001b[1;33m\u001b[0m\u001b[0m\n\u001b[0;32m    409\u001b[0m             \u001b[0mtqdm\u001b[0m\u001b[1;33m.\u001b[0m\u001b[0mpandas\u001b[0m\u001b[1;33m(\u001b[0m\u001b[0mdesc\u001b[0m\u001b[1;33m=\u001b[0m\u001b[1;34m\"Processing \"\u001b[0m \u001b[1;33m+\u001b[0m \u001b[0mname\u001b[0m \u001b[1;33m+\u001b[0m \u001b[1;34m\" with \"\u001b[0m \u001b[1;33m+\u001b[0m \u001b[0mfunc\u001b[0m\u001b[1;33m.\u001b[0m\u001b[0m__name__\u001b[0m\u001b[1;33m)\u001b[0m\u001b[1;33m\u001b[0m\u001b[1;33m\u001b[0m\u001b[0m\n\u001b[1;32m--> 410\u001b[1;33m             \u001b[0mself\u001b[0m\u001b[1;33m.\u001b[0m\u001b[0m_right\u001b[0m\u001b[1;33m[\u001b[0m\u001b[0mname\u001b[0m\u001b[1;33m]\u001b[0m \u001b[1;33m=\u001b[0m \u001b[0mself\u001b[0m\u001b[1;33m.\u001b[0m\u001b[0m_right\u001b[0m\u001b[1;33m[\u001b[0m\u001b[1;34m'text_right'\u001b[0m\u001b[1;33m]\u001b[0m\u001b[1;33m.\u001b[0m\u001b[0mprogress_apply\u001b[0m\u001b[1;33m(\u001b[0m\u001b[0mfunc\u001b[0m\u001b[1;33m)\u001b[0m\u001b[1;33m\u001b[0m\u001b[1;33m\u001b[0m\u001b[0m\n\u001b[0m\u001b[0;32m    411\u001b[0m         \u001b[1;32melse\u001b[0m\u001b[1;33m:\u001b[0m\u001b[1;33m\u001b[0m\u001b[1;33m\u001b[0m\u001b[0m\n\u001b[0;32m    412\u001b[0m             \u001b[0mself\u001b[0m\u001b[1;33m.\u001b[0m\u001b[0m_right\u001b[0m\u001b[1;33m[\u001b[0m\u001b[0mname\u001b[0m\u001b[1;33m]\u001b[0m \u001b[1;33m=\u001b[0m \u001b[0mself\u001b[0m\u001b[1;33m.\u001b[0m\u001b[0m_right\u001b[0m\u001b[1;33m[\u001b[0m\u001b[1;34m'text_right'\u001b[0m\u001b[1;33m]\u001b[0m\u001b[1;33m.\u001b[0m\u001b[0mapply\u001b[0m\u001b[1;33m(\u001b[0m\u001b[0mfunc\u001b[0m\u001b[1;33m)\u001b[0m\u001b[1;33m\u001b[0m\u001b[1;33m\u001b[0m\u001b[0m\n",
      "\u001b[1;32mF:\\anaconda\\lib\\site-packages\\tqdm\\std.py\u001b[0m in \u001b[0;36minner\u001b[1;34m(df, func, *args, **kwargs)\u001b[0m\n\u001b[0;32m    731\u001b[0m                 \u001b[1;32mdef\u001b[0m \u001b[0mwrapper\u001b[0m\u001b[1;33m(\u001b[0m\u001b[1;33m*\u001b[0m\u001b[0margs\u001b[0m\u001b[1;33m,\u001b[0m \u001b[1;33m**\u001b[0m\u001b[0mkwargs\u001b[0m\u001b[1;33m)\u001b[0m\u001b[1;33m:\u001b[0m\u001b[1;33m\u001b[0m\u001b[1;33m\u001b[0m\u001b[0m\n\u001b[0;32m    732\u001b[0m                     \u001b[1;31m# update tbar correctly\u001b[0m\u001b[1;33m\u001b[0m\u001b[1;33m\u001b[0m\u001b[1;33m\u001b[0m\u001b[0m\n\u001b[1;32m--> 733\u001b[1;33m                     \u001b[1;31m# it seems `pandas apply` calls `func` twice\u001b[0m\u001b[1;33m\u001b[0m\u001b[1;33m\u001b[0m\u001b[1;33m\u001b[0m\u001b[0m\n\u001b[0m\u001b[0;32m    734\u001b[0m                     \u001b[1;31m# on the first column/row to decide whether it can\u001b[0m\u001b[1;33m\u001b[0m\u001b[1;33m\u001b[0m\u001b[1;33m\u001b[0m\u001b[0m\n\u001b[0;32m    735\u001b[0m                     \u001b[1;31m# take a fast or slow code path; so stop when t.total==t.n\u001b[0m\u001b[1;33m\u001b[0m\u001b[1;33m\u001b[0m\u001b[1;33m\u001b[0m\u001b[0m\n",
      "\u001b[1;32mF:\\anaconda\\lib\\site-packages\\pandas\\core\\base.py\u001b[0m in \u001b[0;36m_is_builtin_func\u001b[1;34m(self, arg)\u001b[0m\n\u001b[0;32m    658\u001b[0m         \u001b[0motherwise\u001b[0m \u001b[1;32mreturn\u001b[0m \u001b[0mthe\u001b[0m \u001b[0marg\u001b[0m\u001b[1;33m\u001b[0m\u001b[1;33m\u001b[0m\u001b[0m\n\u001b[0;32m    659\u001b[0m         \"\"\"\n\u001b[1;32m--> 660\u001b[1;33m         \u001b[1;32mreturn\u001b[0m \u001b[0mself\u001b[0m\u001b[1;33m.\u001b[0m\u001b[0m_builtin_table\u001b[0m\u001b[1;33m.\u001b[0m\u001b[0mget\u001b[0m\u001b[1;33m(\u001b[0m\u001b[0marg\u001b[0m\u001b[1;33m,\u001b[0m \u001b[0marg\u001b[0m\u001b[1;33m)\u001b[0m\u001b[1;33m\u001b[0m\u001b[1;33m\u001b[0m\u001b[0m\n\u001b[0m\u001b[0;32m    661\u001b[0m \u001b[1;33m\u001b[0m\u001b[0m\n\u001b[0;32m    662\u001b[0m \u001b[1;33m\u001b[0m\u001b[0m\n",
      "\u001b[1;31mTypeError\u001b[0m: unhashable type: 'list'"
     ]
    }
   ],
   "source": [
    "preprocessor = mz.models.ArcI.get_default_preprocessor()\n",
    "train_processed = preprocessor.fit_transform(train_pack)\n",
    "valid_processed = preprocessor.transform(valid_pack)"
   ]
  },
  {
   "cell_type": "code",
   "execution_count": null,
   "metadata": {},
   "outputs": [],
   "source": [
    "trainset = mz.dataloader.Dataset(\n",
    "    data_pack=train_processed,\n",
    "    mode='pair',\n",
    "    num_dup=1,\n",
    "    num_neg=4\n",
    ")\n",
    "validset = mz.dataloader.Dataset(\n",
    "    data_pack=valid_processed,\n",
    "    mode='point'\n",
    ")"
   ]
  },
  {
   "cell_type": "code",
   "execution_count": null,
   "metadata": {},
   "outputs": [],
   "source": [
    "padding_callback = mz.models.ArcI.get_default_padding_callback()\n",
    "\n",
    "trainloader = mz.dataloader.DataLoader(\n",
    "    dataset=trainset,\n",
    "    batch_size=32,\n",
    "    stage='train',\n",
    "    callback=padding_callback\n",
    ")\n",
    "validloader = mz.dataloader.DataLoader(\n",
    "    dataset=validset,\n",
    "    batch_size=32,\n",
    "    stage='dev',\n",
    "    callback=padding_callback\n",
    ")"
   ]
  },
  {
   "cell_type": "code",
   "execution_count": null,
   "metadata": {},
   "outputs": [],
   "source": [
    "model = mz.models.ArcI()\n",
    "model.params['task'] = ranking_task\n",
    "model.guess_and_fill_missing_params()\n",
    "model.build()"
   ]
  },
  {
   "cell_type": "code",
   "execution_count": null,
   "metadata": {},
   "outputs": [],
   "source": [
    "optimizer = torch.optim.Adam(model.parameters())\n",
    "\n",
    "trainer = mz.trainers.Trainer(\n",
    "    model=model,\n",
    "    optimizer=optimizer,\n",
    "    trainloader=trainloader,\n",
    "    validloader=validloader,\n",
    "    epochs=10\n",
    ")\n",
    "\n",
    "trainer.run()"
   ]
  }
 ],
 "metadata": {
  "kernelspec": {
   "display_name": "Python 3",
   "language": "python",
   "name": "python3"
  },
  "language_info": {
   "codemirror_mode": {
    "name": "ipython",
    "version": 3
   },
   "file_extension": ".py",
   "mimetype": "text/x-python",
   "name": "python",
   "nbconvert_exporter": "python",
   "pygments_lexer": "ipython3",
   "version": "3.7.3"
  }
 },
 "nbformat": 4,
 "nbformat_minor": 2
}
